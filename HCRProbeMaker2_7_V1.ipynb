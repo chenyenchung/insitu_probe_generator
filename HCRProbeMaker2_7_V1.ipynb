{
 "cells": [
  {
   "cell_type": "code",
   "execution_count": null,
   "metadata": {},
   "outputs": [],
   "source": [
    "#To create reverse complements use this tool - https://www.bioinformatics.org/sms/rev_comp.html\n",
    "\n",
    "#>Platynereis vasa cDNA reverse complement\n",
    "#CCAATCTATGGAGAGTGCCTCCACCAATATCTGGAGAGTGCAATTAACAAGTTTTACCTCAGATTTCCTTTTTTGGCATTTTAAGATGTTAATCACTAACACATAACGGACAACAGATTAACCACAGAGCAATTTCCAAGGAAAGCCCCCAGTACTGATAGAGACAACTGGAGAGCTTGCAGAACAGAGGCGTAGCACAGATTACACTCGAGCGAGTTTGTGTTTTACGCCCGCCCCATCAGCACCAGATTACACTTAAACTCCCTGTAGAATATCCTAGACATGCCACAAATCCAGTTGATATGAACATTCTGAAATATCTAATGAACTTTCCTTCTATGTTCCACTTAACTTCAAAATTCTAAGTACACTTTCCCCGAAGAGTATTTTAAGTATCAGCTGTACAACGCCCTAACATCTGAAGAGACATTACAGCCTTCTTCCGGCTGCCTCTTACAGTCAGCGGTTCTTTCCAACCCAAGGACGGATCTGGAATTCCTTGATAAAGATAAAACTACGCAATATAACTTTCCATGGAATGAGATCAGACTACACTAGTTCAGGCACTTAAACGATCACACGTAATCAGTAGCAAAAGGACTTCATTTGATCACGAATCAACGGCTAGCAAATATTTCATTTATATATAAAGTTATCAAAATCAAAGACTACCTGAGTAAATCATTTAATTCCAACACATCAAACTAGTTACTTGATGTACGGAATGAAGAAGATGAACACATATGTTTGTGAAAAATTGAGCAAGACTAGCTACTGTAGGAGGGAGAATAAACAATAAACCGACGGATTGCTTATCTTTACACGGAGAAACAATTGTGAAATTGAAGACAATTAGTCCAACCCTGAATGGCGACACATATGTACATAATAATGGCTTTAACCTCCCGCCTAAAACAGAATTCGGTATGGAGATATTTACATAAGAAATCTTAACATGAACCAGCGTGTCAAATGTACGAAAGATGAGATTTAAAATGGAATGGGGAAGCAGCTTGAGGTTATCAGAAAGGCACTTTAGAACAAGCGCCCTTCATTCATGAAATGCAAGGCAAGATGTTCCGAGGTAAAAGTCTGCATATAAGACCGTAACCTACCACTCAAGTCACTGACTCCGTGCTTTTTAATAACGTGGATGAGAAGAGACCAGCTTACTCTCAATTAGCGACATAAATGAGCATTTTTCTTTCCTAGTCCCTAATTTCCGACAGTCGATTCATCACTGAATGGTTGATTACAGCTGCATATATGTTTAACGTCAAGAAAACTAGAAATTAACATGATTAAATGAGATATACAAAGCTATAGAGCTAAAATAAATGCGGTTACAACTGATAAAATCTAACAATGTTAGCCAACATGCCGCAAGTGACTCATATTATACATAACATTCAAAAACATTTCATTGAGATACATAATCTAAATTTACACATGTTGTAGGTCACTCGCAACTTTCTCTTTAACCAACTGTACAGTTCTACATAGGCACCGTTTAGCACCAAAGAGAATAATAGCACATCCGGTACAATCATTGTACTCTACTAGCCAAGAATCAAGATGGTTTCAGAAACTGGTCCAGCCCAGCTGGCTAACAAAAGAACTACTTAAAAGAATGGGAGTAAATGAACCAAAGAGCGCAATTACAAGTTCAAGCATTAATCTACTTGGTTTGTCTGGAGATTTAATCCCAGTCCTCGTCATCACCACCGCCAGCATCGCCTCCGAATCCATTGGAACTTCCGCCGAATCCAGCATCTTCTGTGGTTTTCCTCATTCCTCTACGGGTGTCCTTGGCGCCAAATCTGTCGCCTCCCTGGAATCCACTAGAAATGGCTCCCTCCGCGATCTCCTCAAGCCATGGTGGGACAACTTGTTGTGCGTCGCCGAGAGTTTTGACGAGGGATCGAGCAAGTTCTTTGTCTTGGTTAACATCCGGATCGAAGAATGATGTGGCCTTTCCAAGATTACCGCAACGACCGGTTCGACCAATTCTGTGGACGTACTCATCAATGCCACTGGGGAGATCGTAGTTTATGACGTGCTTGACGCCAGGAATATCAAGACCTCTGGCAGCCACtGAGGTAGCAATCAAGATCGGAGCTCGGCCTGTTTTGAAGTCCAACAAGGCCTCTTCTCTTTCCCTCTGCAAACGATCTCCGTGAATACTTGTGGCAGGGTACTGTTCTTGGGACAGATACGCAGCAAGGAAATCAGCACTGCGCTTGGTTTCCAGGAATACCAGGGTTCTGTCGGTTCCTGCTTGGTTCAAGATCTCCACGAGCTTCTCCCTCTTCTCGTACTTGGTGACTTGGTGGACTTCCTGAGTAATGTCGGAGTTGGCACCACCCACTCGTCCGACAGTCACAAACACATACTCGCTCAAGAACTCCTTGGCAAGCTGCTGGATCTCGGCAGCGAAGGTTGCGCTGAACATGAGGGTCTGTCTCTGGCCTTTCTCGGGCATATCGAAGGTTGTGACGAGCTTTCTGATCTCGGGCTCGAAACCCATGTCCAACATACGATCGGCTTCATCCAGGATGAGGTACTTCACCTTCGACAAGTTAATCTTGCCCTTTCCAATGAAGTCGAGCAATCGACCGGGGGTACCAACGACAACGTGGGCGCCCTTCTCCAGTTCTCTGGCTTGGTATCCAACTGAAGTTCCACCGTAAACGACGACTGGTCTGACGCAAGTTGAAGAAGCAAACTTCCTTGCTTCGAGATAGATCTGGTTGACCAACTCTCTGGTGGGTCCAACGATAATAGCGGCAGGGTATTGGGGTCCTCCAAAACCAGAACCTCCTTCGATGAGATCATTCTTGATAATTCCAGTCAGCACGGGTAGCAAGAAAGCAGCTGTTTTTCCGGATCCTGTTTGAGCACAGCCCATCAAGTCTTTGCCTGAGAGGACGATAGGGATAGCCCACTTCTGGATAGGGGTCGGCCGATCGTACTTGGCTTTACGTACATTGGAGCGGACAGTTTCCGATAGGTCTGCTTGATCAAAATTTAAAATGCCGTTCTTTGGTGCATTAGTGCCTGACACTTCAACAGGAATAGACTCGTATTTGTCAAAGTTGATTCCGGCTGTGATGGACTGGAACATTTCTTCTTCACTCTCCGGGGGAGGCGGGGGAACATAGATCTCAGTTTTCTTTTCGCCATCTCCTCCTTCATTATTCGGGCATTCTCGTGAAAAGTGCCCTTCCTCTCCGCACTTGAAACATCCTTTTCCCTTATTTGAATCTCCGGAGTTACCACCGGAATCACCACCGCCATTAGGGCATTCACGAGAGAAATGTCCCTCTTCCCCACACTTGAAGCATCCCTTGCCTCCTCCACTGCCGCCGCCTCCAAATCCACCACCACCGCCAGAGCTTCCGAATCCACCGCCTCTGGAACCACCAAATCCACCACCGCCTCCGGAACTTCCTCCGTTGGGACATTCGCGGGAGAAATGGCCCTCCTCTCCACACTTGAAACATGCCCTACTGCCACCTCCTCCGCCGCCGCCTCCACTGCCTCCAGCATCCGGGCAATCACGGGCTATGTGACCCTCGCCACCACATTTGTAACAACCGCTGCTGCCACCGCCACCACCTCCTCGCTTTCCTCCGAATCCACCACCCCTTGGCTCATCATCTCCTCCAGCACCTCTTGATCCAAATCCGTTACTACGACCGCCAAATCCTCCACTCTCATTTGAATTCTCATCCCGGGAGCCAAATTTGCTGCCAAATCCACTGCTCTTGCTTCCGAAGCCCCCTTGCGAGTCGTCACCGCCTTTCGCCATGCCACGGCCTCTTCCAAAGTTGAAATTCCCATTTGTCGTGCCCCCAAATCCATTGGTCGTCCCCTCATCATCACTCCAGTCTGAcatTTTGGATGGTAAGATTCAGGATAACTATAACAACTCCTCAACCACAGACAACTTGCAACCAACTACAACCACGAGGAAGCTGATCTCGGGCGAAGTTTTAGTC\n"
   ]
  },
  {
   "cell_type": "code",
   "execution_count": 1,
   "metadata": {
    "scrolled": true
   },
   "outputs": [
    {
     "name": "stdout",
     "output_type": "stream",
     "text": [
      "What is the gene name? (ex. PduVasa) Pdu\n"
     ]
    }
   ],
   "source": [
    "name=str(raw_input(\"What is the gene name? (ex. PduVasa) \"))\n"
   ]
  },
  {
   "cell_type": "code",
   "execution_count": 2,
   "metadata": {},
   "outputs": [
    {
     "name": "stdout",
     "output_type": "stream",
     "text": [
      "Enter the antisense sequence of your cDNA (the reverse complement) without spaces or returns. aaaaaaaaaaaaaaaaaaaaaaaaaaaaaaaaaaaaaaaaaaaaaaaaaaaaaaaaaaaaaaaaaaaaaaaaaaaaaaaaaaaaaaaaaaaaaaaaaaaaaaaaaaaaaaaaaaaaaaaaaaaaaaaaaaaaaaaaaaaaaaaaaaaaaaaaaaaaaaaaaaaaaaaaaaaaaaaaaaaaaaaaaaaaaaaaaaaaaaaaaaaaaaaaaaaaaaaaaaaaaaaaaaaaaaaaaaaaaaaaaaaaaaaaaaaaaaaaaaaaaaaaaaaaaaaaaaaaaaaaaaaaaaaaaaaaaaaaaaaaaaaaaaaaaaaaaaa\n"
     ]
    }
   ],
   "source": [
    "fullseq=str(raw_input(\"Enter the antisense sequence of your cDNA (the reverse complement) without spaces or returns. \"))\n",
    "\n",
    "#example=str(atggtctccaagggagaggagaacaacatggccatcatcaaggagttcatgagattcaaggtcagaatggagggaaccgtcaacggacacgagttcgagatcgagggagagggagagggaagaccctacgagggattccagaccgccaagctgaaggtcaccaagggaggacccctgcccttcgcctgggacatcctgtcccccctgttcacctacggatccaaggcctacgtcaagcaccccgccgacatccccgactacttcaagctgtccttccccgagggattcaagtgggagagagtcatgaactacgaggacggaggagtcgtcaccgtcacccaggactcctccctgcaggacggagagttcatctacaaggtcaagatgagaggaaccaacttcccctccgacggacccgtcatgcagaagaagaccatgggatgggaggcctcctccgagagaatgtaccccgaggacggagccctgaagggagagatcagaatgagactgaagctgaaggacggaggacactacacctccgaggtcaagaccacctacaaggccaagaagtccgtccagctgcccggagcctacatcgtcggaatcaagctggacatcacctcccacaacgaggactacaccatcgtcgagcagtacgagagagccgagggaagacactccaccggaggaatggacgagctgtacaag)"
   ]
  },
  {
   "cell_type": "code",
   "execution_count": 3,
   "metadata": {},
   "outputs": [
    {
     "name": "stdout",
     "output_type": "stream",
     "text": [
      "What is the amplifier to be used with this probe set? B1,B2,B3, or B4 b1\n"
     ]
    }
   ],
   "source": [
    "amplifier=str(raw_input(\"What is the amplifier to be used with this probe set? B1,B2,B3, or B4 \").upper())\n",
    "def amp(ampl): \n",
    "    if ampl == \"B1\":\n",
    "        upspc= \"aa\"\n",
    "        dnspc= \"ta\"\n",
    "        up = \"GAGGAGGGCAGCAAACGG\"\n",
    "        dn = \"GAAGAGTCTTCCTTTACG\"\n",
    "    elif ampl == \"B2\":\n",
    "        upspc= \"aa\"\n",
    "        dnspc= \"aa\"\n",
    "        up = \"CCTCGTAAATCCTCATCA\"\n",
    "        dn = \"ATCATCCAGTAAACCGCC\"\n",
    "    elif ampl == \"B3\":\n",
    "        upspc= \"tt\"\n",
    "        dnspc= \"tt\"\n",
    "        up = \"GTCCCTGCCTCTATATCT\"\n",
    "        dn = \"CCACTCAACTTTAACCCG\"\n",
    "    elif ampl == \"B4\":\n",
    "        upspc= \"aa\"\n",
    "        dnspc= \"at\"\n",
    "        up = \"CCTCAACCTACCTCCAAC\"\n",
    "        dn = \"TCTCACCATATTCGCTTC\"\n",
    "    else:\n",
    "        print \"Please try again\"\n",
    "    return([upspc,dnspc,up,dn])\n",
    "\n",
    "test=amp(amplifier)\n",
    "uspc=test[0]\n",
    "dspc=test[1]\n",
    "upinit=test[2]\n",
    "dninit=test[3]\n",
    "\n"
   ]
  },
  {
   "cell_type": "code",
   "execution_count": 8,
   "metadata": {
    "scrolled": false
   },
   "outputs": [
    {
     "name": "stdout",
     "output_type": "stream",
     "text": [
      "How many bases from 5' end of the Sense RNA before starting to hybridize? ex. 100 0\n",
      "How many pairs of probes do you want? This will be the maximum number if mRNA will accomodate. 2\n",
      "\n",
      "\n",
      "UpSeq     DownSeq     Pair#\n",
      "GAGGAGGGCAGCAAACGGaaaaaaaaaaaaaaaaaaaaaaaaaaa     aaaaaaaaaaaaaaaaaaaaaaaaataGAAGAGTCTTCCTTTACG     1\n",
      "GAGGAGGGCAGCAAACGGaaaaaaaaaaaaaaaaaaaaaaaaaaa     aaaaaaaaaaaaaaaaaaaaaaaaataGAAGAGTCTTCCTTTACG     2\n",
      " \n",
      " \n",
      "These are the probe sequences:\n",
      "StartPos     UpSeq     DownSeq     EndPos\n",
      "0     aaaaaaaaaaaaaaaaaaaaaaaaa     aaaaaaaaaaaaaaaaaaaaaaaaa     52\n",
      "54     aaaaaaaaaaaaaaaaaaaaaaaaa     aaaaaaaaaaaaaaaaaaaaaaaaa     106\n",
      " \n",
      " \n",
      "This is in IDT oPool submission format\n",
      "Pool name     sequence\n",
      "B1_Pdu_2     GAGGAGGGCAGCAAACGGaaaaaaaaaaaaaaaaaaaaaaaaaaa\n",
      "B1_Pdu_2     aaaaaaaaaaaaaaaaaaaaaaaaataGAAGAGTCTTCCTTTACG\n",
      "B1_Pdu_2     GAGGAGGGCAGCAAACGGaaaaaaaaaaaaaaaaaaaaaaaaaaa\n",
      "B1_Pdu_2     aaaaaaaaaaaaaaaaaaaaaaaaataGAAGAGTCTTCCTTTACG\n",
      "\n",
      "\n",
      "end\n"
     ]
    }
   ],
   "source": [
    "pause=int(raw_input(\"How many bases from 5' end of the Sense RNA before starting to hybridize? ex. 100 \"))\n",
    "cdna=len(fullseq)\n",
    "count=(int(raw_input(\"How many pairs of probes do you want? This will be the maximum number if mRNA will accomodate. \")))\n",
    "print \"\"\n",
    "print \"\"\n",
    "print \"UpSeq     DownSeq     Pair#\"\n",
    "\n",
    "position=cdna-pause     ### this controls how far from the 5'end of the mRNA probes begin \n",
    "pair=1\n",
    "pairlib={}\n",
    "idtlibu={}\n",
    "idtlibd={}\n",
    "while position>52: #52 is the cutoff for fitting an entire pair at the end of the gene. the program will cycle back over the RNA if not limited like this\n",
    "    upstream=upinit+uspc+str(fullseq[position-25:position])\n",
    "    downstream=str(fullseq[position-52:position-27])+dspc+dninit\n",
    "    pairlib[pair]=str(str(cdna-position)+\"     \"+str(fullseq[position-25:position])+\"     \"+str(fullseq[position-52:position-27])+\"     \"+str(cdna-position+52))\n",
    "    idtlibu[pair]=str(amplifier+\"_\"+str(name)+\"_\"+str(count)+\"     \"+upstream)\n",
    "    idtlibd[pair]=str(amplifier+\"_\"+str(name)+\"_\"+str(count)+\"     \"+downstream)\n",
    "    position-=54      ### 54 is the number of bases covered by one probe set, in the HCRv3 paper each hyb pair,52bp in length, was given 56bp of space, or ~1 hybridizing pair length \n",
    "    print upstream+\"     \"+downstream+\"     \"+str(pair)\n",
    "    if pair<count:\n",
    "        pair+=1\n",
    "    else:\n",
    "        break\n",
    "\n",
    "print \" \"\n",
    "print \" \"\n",
    "print \"These are the probe sequences:\"\n",
    "print \"StartPos     UpSeq     DownSeq     EndPos\"\n",
    "i=1\n",
    "while i <= pair:\n",
    "    print pairlib[i]\n",
    "    i+=1\n",
    "\n",
    "    \n",
    "print \" \"\n",
    "print \" \"\n",
    "print \"This is in IDT oPool submission format\"\n",
    "print \"Pool name     sequence\"\n",
    "i=1\n",
    "while i <= pair:\n",
    "    print str(idtlibu[i])\n",
    "    print str(idtlibd[i])\n",
    "    i+=1\n",
    "\n",
    "    \n",
    "print \"\"\n",
    "print \"\"\n",
    "print \"end\"      \n",
    "\n"
   ]
  },
  {
   "cell_type": "code",
   "execution_count": null,
   "metadata": {},
   "outputs": [],
   "source": []
  },
  {
   "cell_type": "code",
   "execution_count": null,
   "metadata": {},
   "outputs": [],
   "source": []
  },
  {
   "cell_type": "code",
   "execution_count": null,
   "metadata": {},
   "outputs": [],
   "source": []
  }
 ],
 "metadata": {
  "kernelspec": {
   "display_name": "Python 2",
   "language": "python",
   "name": "python2"
  },
  "language_info": {
   "codemirror_mode": {
    "name": "ipython",
    "version": 2
   },
   "file_extension": ".py",
   "mimetype": "text/x-python",
   "name": "python",
   "nbconvert_exporter": "python",
   "pygments_lexer": "ipython2",
   "version": "2.7.16"
  }
 },
 "nbformat": 4,
 "nbformat_minor": 2
}

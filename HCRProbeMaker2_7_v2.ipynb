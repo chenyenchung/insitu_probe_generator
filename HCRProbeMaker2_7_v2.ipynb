{
 "cells": [
  {
   "cell_type": "code",
   "execution_count": null,
   "metadata": {},
   "outputs": [],
   "source": [
    "# __author__ = 'Ryan W Null, https://github.com/rwnull/insitu_probe_generator'\n",
    "#__copyright__ = 'Copyright 2019-2020, The Ozpolat Lab (http://bduyguozpolat.org/)'\n",
    "#__credits__ = ['B. Duygu Ozpolat']\n",
    "#__license__ = 'GPL 3.0'\n",
    "#__version__ = '2020_2.0'\n",
    "\n",
    "\n",
    "\n",
    "\n",
    "#See Choi et al. 2018 Development for HCR3.0 methodology details\n",
    "#https://www.ncbi.nlm.nih.gov/pmc/articles/PMC6031405/"
   ]
  },
  {
   "cell_type": "code",
   "execution_count": null,
   "metadata": {},
   "outputs": [],
   "source": [
    "#To create reverse complements use this tool - https://www.bioinformatics.org/sms/rev_comp.html\n",
    "\n",
    "\n",
    "#>Aequorea victoria enhanced GFP cDNA | GenBank U55761.1 | ncbi.nlm.nih.gov/nuccore/1377908\n",
    "#atggtgagcaagggcgaggagctgttcaccggggtggtgcccatcctggtcgagctggacggcgacgtaaacggccacaagttcagcgtgtccggcgagggcgagggcgatgccacctacggcaagctgaccctgaagttcatctgcaccaccggcaagctgcccgtgccctggcccaccctcgtgaccaccctgacctacggcgtgcagtgcttcagccgctaccccgaccacatgaagcagcacgacttcttcaagtccgccatgcccgaaggctacgtccaggagcgcaccatcttcttcaaggacgacggcaactacaagacccgcgccgaggtgaagttcgagggcgacaccctggtgaaccgcatcgagctgaagggcatcgacttcaaggaggacggcaacatcctggggcacaagctggagtacaactacaacagccacaacgtctatatcatggccgacaagcagaagaacggcatcaaggtgaacttcaagatccgccacaacatcgaggacggcagcgtgcagctcgccgaccactaccagcagaacacccccatcggcgacggccccgtgctgctgcccgacaaccactacctgagcacccagtccgccctgagcaaagaccccaacgagaagcgcgatcacatggtcctgctggagttcgtgaccgccgccgggatcactctcggcatggacgagctgtacaagtaa\n",
    "\n",
    "\n",
    "#>Aequorea victoria enhanced GFP cDNA reverse complement\n",
    "#ttacttgtacagctcgtccatgccgagagtgatcccggcggcggtcacgaactccagcaggaccatgtgatcgcgcttctcgttggggtctttgctcagggcggactgggtgctcaggtagtggttgtcgggcagcagcacggggccgtcgccgatgggggtgttctgctggtagtggtcggcgagctgcacgctgccgtcctcgatgttgtggcggatcttgaagttcaccttgatgccgttcttctgcttgtcggccatgatatagacgttgtggctgttgtagttgtactccagcttgtgccccaggatgttgccgtcctccttgaagtcgatgcccttcagctcgatgcggttcaccagggtgtcgccctcgaacttcacctcggcgcgggtcttgtagttgccgtcgtccttgaagaagatggtgcgctcctggacgtagccttcgggcatggcggacttgaagaagtcgtgctgcttcatgtggtcggggtagcggctgaagcactgcacgccgtaggtcagggtggtcacgagggtgggccagggcacgggcagcttgccggtggtgcagatgaacttcagggtcagcttgccgtaggtggcatcgccctcgccctcgccggacacgctgaacttgtggccgtttacgtcgccgtccagctcgaccaggatgggcaccaccccggtgaacagctcctcgcccttgctcaccat\n",
    "\n",
    "\n",
    "#>Platynereis vasa cDNA reverse complement\n",
    "#CCAATCTATGGAGAGTGCCTCCACCAATATCTGGAGAGTGCAATTAACAAGTTTTACCTCAGATTTCCTTTTTTGGCATTTTAAGATGTTAATCACTAACACATAACGGACAACAGATTAACCACAGAGCAATTTCCAAGGAAAGCCCCCAGTACTGATAGAGACAACTGGAGAGCTTGCAGAACAGAGGCGTAGCACAGATTACACTCGAGCGAGTTTGTGTTTTACGCCCGCCCCATCAGCACCAGATTACACTTAAACTCCCTGTAGAATATCCTAGACATGCCACAAATCCAGTTGATATGAACATTCTGAAATATCTAATGAACTTTCCTTCTATGTTCCACTTAACTTCAAAATTCTAAGTACACTTTCCCCGAAGAGTATTTTAAGTATCAGCTGTACAACGCCCTAACATCTGAAGAGACATTACAGCCTTCTTCCGGCTGCCTCTTACAGTCAGCGGTTCTTTCCAACCCAAGGACGGATCTGGAATTCCTTGATAAAGATAAAACTACGCAATATAACTTTCCATGGAATGAGATCAGACTACACTAGTTCAGGCACTTAAACGATCACACGTAATCAGTAGCAAAAGGACTTCATTTGATCACGAATCAACGGCTAGCAAATATTTCATTTATATATAAAGTTATCAAAATCAAAGACTACCTGAGTAAATCATTTAATTCCAACACATCAAACTAGTTACTTGATGTACGGAATGAAGAAGATGAACACATATGTTTGTGAAAAATTGAGCAAGACTAGCTACTGTAGGAGGGAGAATAAACAATAAACCGACGGATTGCTTATCTTTACACGGAGAAACAATTGTGAAATTGAAGACAATTAGTCCAACCCTGAATGGCGACACATATGTACATAATAATGGCTTTAACCTCCCGCCTAAAACAGAATTCGGTATGGAGATATTTACATAAGAAATCTTAACATGAACCAGCGTGTCAAATGTACGAAAGATGAGATTTAAAATGGAATGGGGAAGCAGCTTGAGGTTATCAGAAAGGCACTTTAGAACAAGCGCCCTTCATTCATGAAATGCAAGGCAAGATGTTCCGAGGTAAAAGTCTGCATATAAGACCGTAACCTACCACTCAAGTCACTGACTCCGTGCTTTTTAATAACGTGGATGAGAAGAGACCAGCTTACTCTCAATTAGCGACATAAATGAGCATTTTTCTTTCCTAGTCCCTAATTTCCGACAGTCGATTCATCACTGAATGGTTGATTACAGCTGCATATATGTTTAACGTCAAGAAAACTAGAAATTAACATGATTAAATGAGATATACAAAGCTATAGAGCTAAAATAAATGCGGTTACAACTGATAAAATCTAACAATGTTAGCCAACATGCCGCAAGTGACTCATATTATACATAACATTCAAAAACATTTCATTGAGATACATAATCTAAATTTACACATGTTGTAGGTCACTCGCAACTTTCTCTTTAACCAACTGTACAGTTCTACATAGGCACCGTTTAGCACCAAAGAGAATAATAGCACATCCGGTACAATCATTGTACTCTACTAGCCAAGAATCAAGATGGTTTCAGAAACTGGTCCAGCCCAGCTGGCTAACAAAAGAACTACTTAAAAGAATGGGAGTAAATGAACCAAAGAGCGCAATTACAAGTTCAAGCATTAATCTACTTGGTTTGTCTGGAGATTTAATCCCAGTCCTCGTCATCACCACCGCCAGCATCGCCTCCGAATCCATTGGAACTTCCGCCGAATCCAGCATCTTCTGTGGTTTTCCTCATTCCTCTACGGGTGTCCTTGGCGCCAAATCTGTCGCCTCCCTGGAATCCACTAGAAATGGCTCCCTCCGCGATCTCCTCAAGCCATGGTGGGACAACTTGTTGTGCGTCGCCGAGAGTTTTGACGAGGGATCGAGCAAGTTCTTTGTCTTGGTTAACATCCGGATCGAAGAATGATGTGGCCTTTCCAAGATTACCGCAACGACCGGTTCGACCAATTCTGTGGACGTACTCATCAATGCCACTGGGGAGATCGTAGTTTATGACGTGCTTGACGCCAGGAATATCAAGACCTCTGGCAGCCACtGAGGTAGCAATCAAGATCGGAGCTCGGCCTGTTTTGAAGTCCAACAAGGCCTCTTCTCTTTCCCTCTGCAAACGATCTCCGTGAATACTTGTGGCAGGGTACTGTTCTTGGGACAGATACGCAGCAAGGAAATCAGCACTGCGCTTGGTTTCCAGGAATACCAGGGTTCTGTCGGTTCCTGCTTGGTTCAAGATCTCCACGAGCTTCTCCCTCTTCTCGTACTTGGTGACTTGGTGGACTTCCTGAGTAATGTCGGAGTTGGCACCACCCACTCGTCCGACAGTCACAAACACATACTCGCTCAAGAACTCCTTGGCAAGCTGCTGGATCTCGGCAGCGAAGGTTGCGCTGAACATGAGGGTCTGTCTCTGGCCTTTCTCGGGCATATCGAAGGTTGTGACGAGCTTTCTGATCTCGGGCTCGAAACCCATGTCCAACATACGATCGGCTTCATCCAGGATGAGGTACTTCACCTTCGACAAGTTAATCTTGCCCTTTCCAATGAAGTCGAGCAATCGACCGGGGGTACCAACGACAACGTGGGCGCCCTTCTCCAGTTCTCTGGCTTGGTATCCAACTGAAGTTCCACCGTAAACGACGACTGGTCTGACGCAAGTTGAAGAAGCAAACTTCCTTGCTTCGAGATAGATCTGGTTGACCAACTCTCTGGTGGGTCCAACGATAATAGCGGCAGGGTATTGGGGTCCTCCAAAACCAGAACCTCCTTCGATGAGATCATTCTTGATAATTCCAGTCAGCACGGGTAGCAAGAAAGCAGCTGTTTTTCCGGATCCTGTTTGAGCACAGCCCATCAAGTCTTTGCCTGAGAGGACGATAGGGATAGCCCACTTCTGGATAGGGGTCGGCCGATCGTACTTGGCTTTACGTACATTGGAGCGGACAGTTTCCGATAGGTCTGCTTGATCAAAATTTAAAATGCCGTTCTTTGGTGCATTAGTGCCTGACACTTCAACAGGAATAGACTCGTATTTGTCAAAGTTGATTCCGGCTGTGATGGACTGGAACATTTCTTCTTCACTCTCCGGGGGAGGCGGGGGAACATAGATCTCAGTTTTCTTTTCGCCATCTCCTCCTTCATTATTCGGGCATTCTCGTGAAAAGTGCCCTTCCTCTCCGCACTTGAAACATCCTTTTCCCTTATTTGAATCTCCGGAGTTACCACCGGAATCACCACCGCCATTAGGGCATTCACGAGAGAAATGTCCCTCTTCCCCACACTTGAAGCATCCCTTGCCTCCTCCACTGCCGCCGCCTCCAAATCCACCACCACCGCCAGAGCTTCCGAATCCACCGCCTCTGGAACCACCAAATCCACCACCGCCTCCGGAACTTCCTCCGTTGGGACATTCGCGGGAGAAATGGCCCTCCTCTCCACACTTGAAACATGCCCTACTGCCACCTCCTCCGCCGCCGCCTCCACTGCCTCCAGCATCCGGGCAATCACGGGCTATGTGACCCTCGCCACCACATTTGTAACAACCGCTGCTGCCACCGCCACCACCTCCTCGCTTTCCTCCGAATCCACCACCCCTTGGCTCATCATCTCCTCCAGCACCTCTTGATCCAAATCCGTTACTACGACCGCCAAATCCTCCACTCTCATTTGAATTCTCATCCCGGGAGCCAAATTTGCTGCCAAATCCACTGCTCTTGCTTCCGAAGCCCCCTTGCGAGTCGTCACCGCCTTTCGCCATGCCACGGCCTCTTCCAAAGTTGAAATTCCCATTTGTCGTGCCCCCAAATCCATTGGTCGTCCCCTCATCATCACTCCAGTCTGAcatTTTGGATGGTAAGATTCAGGATAACTATAACAACTCCTCAACCACAGACAACTTGCAACCAACTACAACCACGAGGAAGCTGATCTCGGGCGAAGTTTTAGTC\n"
   ]
  },
  {
   "cell_type": "code",
   "execution_count": 1,
   "metadata": {
    "scrolled": false
   },
   "outputs": [
    {
     "name": "stdout",
     "output_type": "stream",
     "text": [
      "What is the gene name? (ex. eGFP) eGFP\n"
     ]
    }
   ],
   "source": [
    "name=str(raw_input(\"What is the gene name? (ex. eGFP) \"))\n"
   ]
  },
  {
   "cell_type": "code",
   "execution_count": 2,
   "metadata": {
    "scrolled": true
   },
   "outputs": [
    {
     "name": "stdout",
     "output_type": "stream",
     "text": [
      "Enter the antisense sequence of your cDNA (the reverse complement) without spaces or returns. ttacttgtacagctcgtccatgccgagagtgatcccggcggcggtcacgaactccagcaggaccatgtgatcgcgcttctcgttggggtctttgctcagggcggactgggtgctcaggtagtggttgtcgggcagcagcacggggccgtcgccgatgggggtgttctgctggtagtggtcggcgagctgcacgctgccgtcctcgatgttgtggcggatcttgaagttcaccttgatgccgttcttctgcttgtcggccatgatatagacgttgtggctgttgtagttgtactccagcttgtgccccaggatgttgccgtcctccttgaagtcgatgcccttcagctcgatgcggttcaccagggtgtcgccctcgaacttcacctcggcgcgggtcttgtagttgccgtcgtccttgaagaagatggtgcgctcctggacgtagccttcgggcatggcggacttgaagaagtcgtgctgcttcatgtggtcggggtagcggctgaagcactgcacgccgtaggtcagggtggtcacgagggtgggccagggcacgggcagcttgccggtggtgcagatgaacttcagggtcagcttgccgtaggtggcatcgccctcgccctcgccggacacgctgaacttgtggccgtttacgtcgccgtccagctcgaccaggatgggcaccaccccggtgaacagctcctcgcccttgctcaccat\n"
     ]
    }
   ],
   "source": [
    "fullseq=str(raw_input(\"Enter the antisense sequence of your cDNA (the reverse complement) without spaces or returns. \"))\n",
    "cdna=len(fullseq)\n",
    "#example=str(ttacttgtacagctcgtccatgccgagagtgatcccggcggcggtcacgaactccagcaggaccatgtgatcgcgcttctcgttggggtctttgctcagggcggactgggtgctcaggtagtggttgtcgggcagcagcacggggccgtcgccgatgggggtgttctgctggtagtggtcggcgagctgcacgctgccgtcctcgatgttgtggcggatcttgaagttcaccttgatgccgttcttctgcttgtcggccatgatatagacgttgtggctgttgtagttgtactccagcttgtgccccaggatgttgccgtcctccttgaagtcgatgcccttcagctcgatgcggttcaccagggtgtcgccctcgaacttcacctcggcgcgggtcttgtagttgccgtcgtccttgaagaagatggtgcgctcctggacgtagccttcgggcatggcggacttgaagaagtcgtgctgcttcatgtggtcggggtagcggctgaagcactgcacgccgtaggtcagggtggtcacgagggtgggccagggcacgggcagcttgccggtggtgcagatgaacttcagggtcagcttgccgtaggtggcatcgccctcgccctcgccggacacgctgaacttgtggccgtttacgtcgccgtccagctcgaccaggatgggcaccaccccggtgaacagctcctcgcccttgctcaccat)"
   ]
  },
  {
   "cell_type": "code",
   "execution_count": 3,
   "metadata": {},
   "outputs": [
    {
     "name": "stdout",
     "output_type": "stream",
     "text": [
      "What is the amplifier to be used with this probe set? B1,B2,B3, or B4 b1\n"
     ]
    }
   ],
   "source": [
    "amplifier=str(raw_input(\"What is the amplifier to be used with this probe set? B1,B2,B3, or B4 \").upper())\n",
    "def amp(ampl): \n",
    "    if ampl == \"B1\":\n",
    "        upspc= \"aa\"\n",
    "        dnspc= \"ta\"\n",
    "        up = \"GAGGAGGGCAGCAAACGG\"\n",
    "        dn = \"GAAGAGTCTTCCTTTACG\"\n",
    "    elif ampl == \"B2\":\n",
    "        upspc= \"aa\"\n",
    "        dnspc= \"aa\"\n",
    "        up = \"CCTCGTAAATCCTCATCA\"\n",
    "        dn = \"ATCATCCAGTAAACCGCC\"\n",
    "    elif ampl == \"B3\":\n",
    "        upspc= \"tt\"\n",
    "        dnspc= \"tt\"\n",
    "        up = \"GTCCCTGCCTCTATATCT\"\n",
    "        dn = \"CCACTCAACTTTAACCCG\"\n",
    "    elif ampl == \"B4\":\n",
    "        upspc= \"aa\"\n",
    "        dnspc= \"at\"\n",
    "        up = \"CCTCAACCTACCTCCAAC\"\n",
    "        dn = \"TCTCACCATATTCGCTTC\"\n",
    "    else:\n",
    "        print \"Please try again\"\n",
    "    return([upspc,dnspc,up,dn])\n",
    "\n",
    "test=amp(amplifier)\n",
    "uspc=test[0]\n",
    "dspc=test[1]\n",
    "upinit=test[2]\n",
    "dninit=test[3]\n",
    "\n"
   ]
  },
  {
   "cell_type": "code",
   "execution_count": 4,
   "metadata": {
    "scrolled": false
   },
   "outputs": [
    {
     "name": "stdout",
     "output_type": "stream",
     "text": [
      "How many bases from 5' end of the Sense RNA before starting to hybridize? ex. 100 0\n"
     ]
    }
   ],
   "source": [
    "\n",
    "pause=int(raw_input(\"How many bases from 5' end of the Sense RNA before starting to hybridize? ex. 100 \"))\n"
   ]
  },
  {
   "cell_type": "code",
   "execution_count": 5,
   "metadata": {},
   "outputs": [
    {
     "name": "stdout",
     "output_type": "stream",
     "text": [
      "How many pairs of probes do you want? This will be the maximum number if mRNA will accomodate. 13\n"
     ]
    }
   ],
   "source": [
    "\n",
    "count=(int(raw_input(\"How many pairs of probes do you want? This will be the maximum number if mRNA will accomodate. \")))\n"
   ]
  },
  {
   "cell_type": "code",
   "execution_count": 6,
   "metadata": {
    "scrolled": false
   },
   "outputs": [
    {
     "name": "stdout",
     "output_type": "stream",
     "text": [
      "\n",
      "\n",
      "HCR3.0 Probe Maker Output\n",
      "\n",
      "\n",
      "Figure Layout:\n",
      "\n",
      "B1_eGFP_13\n",
      "Pair#,1st Half of Initiator I1,Spacer,Probe,,Probe,Spacer,2nd Half of Initiator I1\n",
      "1,GAGGAGGGCAGCAAACGG,aa,cgaccaggatgggcaccaccccggt,,acagctcctcgcccttgctcaccat,ta,GAAGAGTCTTCCTTTACG\n",
      "2,GAGGAGGGCAGCAAACGG,aa,cctcgccctcgccggacacgctgaa,,tgtggccgtttacgtcgccgtccag,ta,GAAGAGTCTTCCTTTACG\n",
      "3,GAGGAGGGCAGCAAACGG,aa,gcttgccggtggtgcagatgaactt,,gggtcagcttgccgtaggtggcatc,ta,GAAGAGTCTTCCTTTACG\n",
      "4,GAGGAGGGCAGCAAACGG,aa,agcactgcacgccgtaggtcagggt,,tcacgagggtgggccagggcacggg,ta,GAAGAGTCTTCCTTTACG\n",
      "5,GAGGAGGGCAGCAAACGG,aa,gcatggcggacttgaagaagtcgtg,,gcttcatgtggtcggggtagcggct,ta,GAAGAGTCTTCCTTTACG\n",
      "6,GAGGAGGGCAGCAAACGG,aa,tgtagttgccgtcgtccttgaagaa,,tggtgcgctcctggacgtagccttc,ta,GAAGAGTCTTCCTTTACG\n",
      "7,GAGGAGGGCAGCAAACGG,aa,gctcgatgcggttcaccagggtgtc,,cctcgaacttcacctcggcgcgggt,ta,GAAGAGTCTTCCTTTACG\n",
      "8,GAGGAGGGCAGCAAACGG,aa,actccagcttgtgccccaggatgtt,,cgtcctccttgaagtcgatgccctt,ta,GAAGAGTCTTCCTTTACG\n",
      "9,GAGGAGGGCAGCAAACGG,aa,tgccgttcttctgcttgtcggccat,,tatagacgttgtggctgttgtagtt,ta,GAAGAGTCTTCCTTTACG\n",
      "10,GAGGAGGGCAGCAAACGG,aa,cgagctgcacgctgccgtcctcgat,,tgtggcggatcttgaagttcacctt,ta,GAAGAGTCTTCCTTTACG\n",
      "11,GAGGAGGGCAGCAAACGG,aa,cgggcagcagcacggggccgtcgcc,,tgggggtgttctgctggtagtggtc,ta,GAAGAGTCTTCCTTTACG\n",
      "12,GAGGAGGGCAGCAAACGG,aa,gcttctcgttggggtctttgctcag,,cggactgggtgctcaggtagtggtt,ta,GAAGAGTCTTCCTTTACG\n",
      "13,GAGGAGGGCAGCAAACGG,aa,tgccgagagtgatcccggcggcggt,,cgaactccagcaggaccatgtgatc,ta,GAAGAGTCTTCCTTTACG\n",
      "\n",
      "\n",
      "Below are the hybridizing sequences and where they align to the cDNA:\n",
      "\n",
      "Pair#,cDNAcoord,Probe,cDNAcoord,,cDNAcoord,Probe,cDNAcoord\n",
      "1,25,acagctcctcgcccttgctcaccat,0,,52,cgaccaggatgggcaccaccccggt,27\n",
      "2,79,tgtggccgtttacgtcgccgtccag,54,,106,cctcgccctcgccggacacgctgaa,81\n",
      "3,133,gggtcagcttgccgtaggtggcatc,108,,160,gcttgccggtggtgcagatgaactt,135\n",
      "4,187,tcacgagggtgggccagggcacggg,162,,214,agcactgcacgccgtaggtcagggt,189\n",
      "5,241,gcttcatgtggtcggggtagcggct,216,,268,gcatggcggacttgaagaagtcgtg,243\n",
      "6,295,tggtgcgctcctggacgtagccttc,270,,322,tgtagttgccgtcgtccttgaagaa,297\n",
      "7,349,cctcgaacttcacctcggcgcgggt,324,,376,gctcgatgcggttcaccagggtgtc,351\n",
      "8,403,cgtcctccttgaagtcgatgccctt,378,,430,actccagcttgtgccccaggatgtt,405\n",
      "9,457,tatagacgttgtggctgttgtagtt,432,,484,tgccgttcttctgcttgtcggccat,459\n",
      "10,511,tgtggcggatcttgaagttcacctt,486,,538,cgagctgcacgctgccgtcctcgat,513\n",
      "11,565,tgggggtgttctgctggtagtggtc,540,,592,cgggcagcagcacggggccgtcgcc,567\n",
      "12,619,cggactgggtgctcaggtagtggtt,594,,646,gcttctcgttggggtctttgctcag,621\n",
      "13,673,cgaactccagcaggaccatgtgatc,648,,700,tgccgagagtgatcccggcggcggt,675\n",
      "\n",
      "\n",
      "\n",
      "Below is in IDT oPool submission format.\n",
      "Copy and Paste this into an XLSX file for submission to IDT.\n",
      "\n",
      "Pool name,sequence\n",
      "B1_eGFP_13,GAGGAGGGCAGCAAACGGaacgaccaggatgggcaccaccccggt\n",
      "B1_eGFP_13,acagctcctcgcccttgctcaccattaGAAGAGTCTTCCTTTACG\n",
      "B1_eGFP_13,GAGGAGGGCAGCAAACGGaacctcgccctcgccggacacgctgaa\n",
      "B1_eGFP_13,tgtggccgtttacgtcgccgtccagtaGAAGAGTCTTCCTTTACG\n",
      "B1_eGFP_13,GAGGAGGGCAGCAAACGGaagcttgccggtggtgcagatgaactt\n",
      "B1_eGFP_13,gggtcagcttgccgtaggtggcatctaGAAGAGTCTTCCTTTACG\n",
      "B1_eGFP_13,GAGGAGGGCAGCAAACGGaaagcactgcacgccgtaggtcagggt\n",
      "B1_eGFP_13,tcacgagggtgggccagggcacgggtaGAAGAGTCTTCCTTTACG\n",
      "B1_eGFP_13,GAGGAGGGCAGCAAACGGaagcatggcggacttgaagaagtcgtg\n",
      "B1_eGFP_13,gcttcatgtggtcggggtagcggcttaGAAGAGTCTTCCTTTACG\n",
      "B1_eGFP_13,GAGGAGGGCAGCAAACGGaatgtagttgccgtcgtccttgaagaa\n",
      "B1_eGFP_13,tggtgcgctcctggacgtagccttctaGAAGAGTCTTCCTTTACG\n",
      "B1_eGFP_13,GAGGAGGGCAGCAAACGGaagctcgatgcggttcaccagggtgtc\n",
      "B1_eGFP_13,cctcgaacttcacctcggcgcgggttaGAAGAGTCTTCCTTTACG\n",
      "B1_eGFP_13,GAGGAGGGCAGCAAACGGaaactccagcttgtgccccaggatgtt\n",
      "B1_eGFP_13,cgtcctccttgaagtcgatgccctttaGAAGAGTCTTCCTTTACG\n",
      "B1_eGFP_13,GAGGAGGGCAGCAAACGGaatgccgttcttctgcttgtcggccat\n",
      "B1_eGFP_13,tatagacgttgtggctgttgtagtttaGAAGAGTCTTCCTTTACG\n",
      "B1_eGFP_13,GAGGAGGGCAGCAAACGGaacgagctgcacgctgccgtcctcgat\n",
      "B1_eGFP_13,tgtggcggatcttgaagttcacctttaGAAGAGTCTTCCTTTACG\n",
      "B1_eGFP_13,GAGGAGGGCAGCAAACGGaacgggcagcagcacggggccgtcgcc\n",
      "B1_eGFP_13,tgggggtgttctgctggtagtggtctaGAAGAGTCTTCCTTTACG\n",
      "B1_eGFP_13,GAGGAGGGCAGCAAACGGaagcttctcgttggggtctttgctcag\n",
      "B1_eGFP_13,cggactgggtgctcaggtagtggtttaGAAGAGTCTTCCTTTACG\n",
      "B1_eGFP_13,GAGGAGGGCAGCAAACGGaatgccgagagtgatcccggcggcggt\n",
      "B1_eGFP_13,cgaactccagcaggaccatgtgatctaGAAGAGTCTTCCTTTACG\n",
      "\n",
      "\n",
      "\n",
      "Anti-sense sequence used:\n",
      "\n",
      ">eGFP\n",
      "ttacttgtacagctcgtccatgccgagagtgatcccggcggcggtcacgaactccagcaggaccatgtgatcgcgcttctcgttggggtctttgctcagggcggactgggtgctcaggtagtggttgtcgggcagcagcacggggccgtcgccgatgggggtgttctgctggtagtggtcggcgagctgcacgctgccgtcctcgatgttgtggcggatcttgaagttcaccttgatgccgttcttctgcttgtcggccatgatatagacgttgtggctgttgtagttgtactccagcttgtgccccaggatgttgccgtcctccttgaagtcgatgcccttcagctcgatgcggttcaccagggtgtcgccctcgaacttcacctcggcgcgggtcttgtagttgccgtcgtccttgaagaagatggtgcgctcctggacgtagccttcgggcatggcggacttgaagaagtcgtgctgcttcatgtggtcggggtagcggctgaagcactgcacgccgtaggtcagggtggtcacgagggtgggccagggcacgggcagcttgccggtggtgcagatgaacttcagggtcagcttgccgtaggtggcatcgccctcgccctcgccggacacgctgaacttgtggccgtttacgtcgccgtccagctcgaccaggatgggcaccaccccggtgaacagctcctcgcccttgctcaccat\n"
     ]
    }
   ],
   "source": [
    "\n",
    "print \"\"\n",
    "print \"\"\n",
    "print \"HCR3.0 Probe Maker Output\"\n",
    "print \"\"\n",
    "print \"\"\n",
    "print \"Figure Layout:\"\n",
    "print \"\"\n",
    "print str(amplifier+\"_\"+str(name)+\"_\"+str(count))\n",
    "print \"Pair#,1st Half of Initiator I1,Spacer,Probe,,Probe,Spacer,2nd Half of Initiator I1\"\n",
    "\n",
    "\n",
    "position=cdna-pause     ### this controls how far from the 5'end of the mRNA probes begin \n",
    "pair=1\n",
    "pairlib={}\n",
    "idtlibu={}\n",
    "idtlibd={}\n",
    "while position>52: #52 is the cutoff for fitting an entire pair at the end of the gene. the program will cycle back over the RNA if not limited like this\n",
    "    downstream=str(fullseq[position-25:position])\n",
    "    upstream=str(fullseq[position-52:position-27])\n",
    "    pairlib[pair]=str(str(pair)+\",\"+str(cdna-position+25)+\",\"+str(fullseq[position-25:position])+\",\"+str(cdna-position)+\",,\"+str(cdna-position+52)+\",\"+str(fullseq[position-52:position-27])+\",\"+str(cdna-position+27))\n",
    "    idtlibu[pair]=str(amplifier+\"_\"+str(name)+\"_\"+str(count)+\",\"+upinit+uspc+upstream)   #This is a library used for IDT output\n",
    "    idtlibd[pair]=str(amplifier+\"_\"+str(name)+\"_\"+str(count)+\",\"+downstream+dspc+dninit)\n",
    "    position-=54      ### 54 is the number of bases covered by one probe set, in the HCRv3 paper each hyb pair,52bp in length, was given 56bp of space, or ~1 hybridizing pair length \n",
    "    print str(pair)+\",\"+upinit+\",\"+uspc+\",\"+upstream+\",,\"+downstream+\",\"+dspc+\",\"+dninit\n",
    "    if pair<count:\n",
    "        pair+=1\n",
    "    else:\n",
    "        break\n",
    "\n",
    "print \"\"\n",
    "print \"\"\n",
    "\n",
    "print \"Below are the hybridizing sequences and where they align to the cDNA:\"\n",
    "print \"\"\n",
    "print \"Pair#,cDNAcoord,Probe,cDNAcoord,,cDNAcoord,Probe,cDNAcoord\"\n",
    "i=1\n",
    "while i <= pair:\n",
    "    print pairlib[i]\n",
    "    i+=1\n",
    "\n",
    "print \"\"\n",
    "print \"\"\n",
    "print \"\"\n",
    "\n",
    "\n",
    "\n",
    "\n",
    "print \"Below is in IDT oPool submission format.\"\n",
    "print \"Copy and Paste this into an XLSX file for submission to IDT.\"\n",
    "print \"\"\n",
    "print \"Pool name,sequence\"\n",
    "i=1\n",
    "while i <= pair:\n",
    "    print str(idtlibu[i])\n",
    "    print str(idtlibd[i])\n",
    "    i+=1\n",
    "\n",
    "    \n",
    "\n",
    "print \"\"\n",
    "print \"\"\n",
    "print \"\"\n",
    "print \"Anti-sense sequence used:\"\n",
    "print \"\"\n",
    "print \">\"+name\n",
    "print fullseq"
   ]
  },
  {
   "cell_type": "code",
   "execution_count": null,
   "metadata": {},
   "outputs": [],
   "source": []
  }
 ],
 "metadata": {
  "kernelspec": {
   "display_name": "Python 2",
   "language": "python",
   "name": "python2"
  },
  "language_info": {
   "codemirror_mode": {
    "name": "ipython",
    "version": 2
   },
   "file_extension": ".py",
   "mimetype": "text/x-python",
   "name": "python",
   "nbconvert_exporter": "python",
   "pygments_lexer": "ipython2",
   "version": "2.7.16"
  }
 },
 "nbformat": 4,
 "nbformat_minor": 2
}

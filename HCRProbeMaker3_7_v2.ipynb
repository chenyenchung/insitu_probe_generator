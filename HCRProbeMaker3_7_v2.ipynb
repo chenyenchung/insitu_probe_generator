{
 "cells": [
  {
   "cell_type": "code",
   "execution_count": null,
   "metadata": {},
   "outputs": [],
   "source": [
    "#__author__ = 'Ryan W Null, https://github.com/rwnull/insitu_probe_generator'\n",
    "#__copyright__ = 'Copyright 2019-2020, The Ozpolat Lab (http://bduyguozpolat.org/)'\n",
    "#__credits__ = ['B. Duygu Ozpolat']\n",
    "#__license__ = 'GPL 3.0'\n",
    "#__version__ = '2020_2.0'\n",
    "\n",
    "\n",
    "#See Choi et al. 2018 Development for HCR3.0 methodology details\n",
    "#https://www.ncbi.nlm.nih.gov/pmc/articles/PMC6031405/"
   ]
  },
  {
   "cell_type": "code",
   "execution_count": null,
   "metadata": {},
   "outputs": [],
   "source": [
    "#To create reverse complements use this tool - https://www.bioinformatics.org/sms/rev_comp.html\n",
    "\n",
    "\n",
    "#>Aequorea victoria enhanced GFP cDNA | GenBank U55761.1 | ncbi.nlm.nih.gov/nuccore/1377908\n",
    "#atggtgagcaagggcgaggagctgttcaccggggtggtgcccatcctggtcgagctggacggcgacgtaaacggccacaagttcagcgtgtccggcgagggcgagggcgatgccacctacggcaagctgaccctgaagttcatctgcaccaccggcaagctgcccgtgccctggcccaccctcgtgaccaccctgacctacggcgtgcagtgcttcagccgctaccccgaccacatgaagcagcacgacttcttcaagtccgccatgcccgaaggctacgtccaggagcgcaccatcttcttcaaggacgacggcaactacaagacccgcgccgaggtgaagttcgagggcgacaccctggtgaaccgcatcgagctgaagggcatcgacttcaaggaggacggcaacatcctggggcacaagctggagtacaactacaacagccacaacgtctatatcatggccgacaagcagaagaacggcatcaaggtgaacttcaagatccgccacaacatcgaggacggcagcgtgcagctcgccgaccactaccagcagaacacccccatcggcgacggccccgtgctgctgcccgacaaccactacctgagcacccagtccgccctgagcaaagaccccaacgagaagcgcgatcacatggtcctgctggagttcgtgaccgccgccgggatcactctcggcatggacgagctgtacaagtaa\n",
    "\n",
    "\n",
    "#>Aequorea victoria enhanced GFP cDNA reverse complement\n",
    "#ttacttgtacagctcgtccatgccgagagtgatcccggcggcggtcacgaactccagcaggaccatgtgatcgcgcttctcgttggggtctttgctcagggcggactgggtgctcaggtagtggttgtcgggcagcagcacggggccgtcgccgatgggggtgttctgctggtagtggtcggcgagctgcacgctgccgtcctcgatgttgtggcggatcttgaagttcaccttgatgccgttcttctgcttgtcggccatgatatagacgttgtggctgttgtagttgtactccagcttgtgccccaggatgttgccgtcctccttgaagtcgatgcccttcagctcgatgcggttcaccagggtgtcgccctcgaacttcacctcggcgcgggtcttgtagttgccgtcgtccttgaagaagatggtgcgctcctggacgtagccttcgggcatggcggacttgaagaagtcgtgctgcttcatgtggtcggggtagcggctgaagcactgcacgccgtaggtcagggtggtcacgagggtgggccagggcacgggcagcttgccggtggtgcagatgaacttcagggtcagcttgccgtaggtggcatcgccctcgccctcgccggacacgctgaacttgtggccgtttacgtcgccgtccagctcgaccaggatgggcaccaccccggtgaacagctcctcgcccttgctcaccat\n",
    "\n",
    "\n",
    "#>Platynereis vasa cDNA reverse complement\n",
    "#CCAATCTATGGAGAGTGCCTCCACCAATATCTGGAGAGTGCAATTAACAAGTTTTACCTCAGATTTCCTTTTTTGGCATTTTAAGATGTTAATCACTAACACATAACGGACAACAGATTAACCACAGAGCAATTTCCAAGGAAAGCCCCCAGTACTGATAGAGACAACTGGAGAGCTTGCAGAACAGAGGCGTAGCACAGATTACACTCGAGCGAGTTTGTGTTTTACGCCCGCCCCATCAGCACCAGATTACACTTAAACTCCCTGTAGAATATCCTAGACATGCCACAAATCCAGTTGATATGAACATTCTGAAATATCTAATGAACTTTCCTTCTATGTTCCACTTAACTTCAAAATTCTAAGTACACTTTCCCCGAAGAGTATTTTAAGTATCAGCTGTACAACGCCCTAACATCTGAAGAGACATTACAGCCTTCTTCCGGCTGCCTCTTACAGTCAGCGGTTCTTTCCAACCCAAGGACGGATCTGGAATTCCTTGATAAAGATAAAACTACGCAATATAACTTTCCATGGAATGAGATCAGACTACACTAGTTCAGGCACTTAAACGATCACACGTAATCAGTAGCAAAAGGACTTCATTTGATCACGAATCAACGGCTAGCAAATATTTCATTTATATATAAAGTTATCAAAATCAAAGACTACCTGAGTAAATCATTTAATTCCAACACATCAAACTAGTTACTTGATGTACGGAATGAAGAAGATGAACACATATGTTTGTGAAAAATTGAGCAAGACTAGCTACTGTAGGAGGGAGAATAAACAATAAACCGACGGATTGCTTATCTTTACACGGAGAAACAATTGTGAAATTGAAGACAATTAGTCCAACCCTGAATGGCGACACATATGTACATAATAATGGCTTTAACCTCCCGCCTAAAACAGAATTCGGTATGGAGATATTTACATAAGAAATCTTAACATGAACCAGCGTGTCAAATGTACGAAAGATGAGATTTAAAATGGAATGGGGAAGCAGCTTGAGGTTATCAGAAAGGCACTTTAGAACAAGCGCCCTTCATTCATGAAATGCAAGGCAAGATGTTCCGAGGTAAAAGTCTGCATATAAGACCGTAACCTACCACTCAAGTCACTGACTCCGTGCTTTTTAATAACGTGGATGAGAAGAGACCAGCTTACTCTCAATTAGCGACATAAATGAGCATTTTTCTTTCCTAGTCCCTAATTTCCGACAGTCGATTCATCACTGAATGGTTGATTACAGCTGCATATATGTTTAACGTCAAGAAAACTAGAAATTAACATGATTAAATGAGATATACAAAGCTATAGAGCTAAAATAAATGCGGTTACAACTGATAAAATCTAACAATGTTAGCCAACATGCCGCAAGTGACTCATATTATACATAACATTCAAAAACATTTCATTGAGATACATAATCTAAATTTACACATGTTGTAGGTCACTCGCAACTTTCTCTTTAACCAACTGTACAGTTCTACATAGGCACCGTTTAGCACCAAAGAGAATAATAGCACATCCGGTACAATCATTGTACTCTACTAGCCAAGAATCAAGATGGTTTCAGAAACTGGTCCAGCCCAGCTGGCTAACAAAAGAACTACTTAAAAGAATGGGAGTAAATGAACCAAAGAGCGCAATTACAAGTTCAAGCATTAATCTACTTGGTTTGTCTGGAGATTTAATCCCAGTCCTCGTCATCACCACCGCCAGCATCGCCTCCGAATCCATTGGAACTTCCGCCGAATCCAGCATCTTCTGTGGTTTTCCTCATTCCTCTACGGGTGTCCTTGGCGCCAAATCTGTCGCCTCCCTGGAATCCACTAGAAATGGCTCCCTCCGCGATCTCCTCAAGCCATGGTGGGACAACTTGTTGTGCGTCGCCGAGAGTTTTGACGAGGGATCGAGCAAGTTCTTTGTCTTGGTTAACATCCGGATCGAAGAATGATGTGGCCTTTCCAAGATTACCGCAACGACCGGTTCGACCAATTCTGTGGACGTACTCATCAATGCCACTGGGGAGATCGTAGTTTATGACGTGCTTGACGCCAGGAATATCAAGACCTCTGGCAGCCACtGAGGTAGCAATCAAGATCGGAGCTCGGCCTGTTTTGAAGTCCAACAAGGCCTCTTCTCTTTCCCTCTGCAAACGATCTCCGTGAATACTTGTGGCAGGGTACTGTTCTTGGGACAGATACGCAGCAAGGAAATCAGCACTGCGCTTGGTTTCCAGGAATACCAGGGTTCTGTCGGTTCCTGCTTGGTTCAAGATCTCCACGAGCTTCTCCCTCTTCTCGTACTTGGTGACTTGGTGGACTTCCTGAGTAATGTCGGAGTTGGCACCACCCACTCGTCCGACAGTCACAAACACATACTCGCTCAAGAACTCCTTGGCAAGCTGCTGGATCTCGGCAGCGAAGGTTGCGCTGAACATGAGGGTCTGTCTCTGGCCTTTCTCGGGCATATCGAAGGTTGTGACGAGCTTTCTGATCTCGGGCTCGAAACCCATGTCCAACATACGATCGGCTTCATCCAGGATGAGGTACTTCACCTTCGACAAGTTAATCTTGCCCTTTCCAATGAAGTCGAGCAATCGACCGGGGGTACCAACGACAACGTGGGCGCCCTTCTCCAGTTCTCTGGCTTGGTATCCAACTGAAGTTCCACCGTAAACGACGACTGGTCTGACGCAAGTTGAAGAAGCAAACTTCCTTGCTTCGAGATAGATCTGGTTGACCAACTCTCTGGTGGGTCCAACGATAATAGCGGCAGGGTATTGGGGTCCTCCAAAACCAGAACCTCCTTCGATGAGATCATTCTTGATAATTCCAGTCAGCACGGGTAGCAAGAAAGCAGCTGTTTTTCCGGATCCTGTTTGAGCACAGCCCATCAAGTCTTTGCCTGAGAGGACGATAGGGATAGCCCACTTCTGGATAGGGGTCGGCCGATCGTACTTGGCTTTACGTACATTGGAGCGGACAGTTTCCGATAGGTCTGCTTGATCAAAATTTAAAATGCCGTTCTTTGGTGCATTAGTGCCTGACACTTCAACAGGAATAGACTCGTATTTGTCAAAGTTGATTCCGGCTGTGATGGACTGGAACATTTCTTCTTCACTCTCCGGGGGAGGCGGGGGAACATAGATCTCAGTTTTCTTTTCGCCATCTCCTCCTTCATTATTCGGGCATTCTCGTGAAAAGTGCCCTTCCTCTCCGCACTTGAAACATCCTTTTCCCTTATTTGAATCTCCGGAGTTACCACCGGAATCACCACCGCCATTAGGGCATTCACGAGAGAAATGTCCCTCTTCCCCACACTTGAAGCATCCCTTGCCTCCTCCACTGCCGCCGCCTCCAAATCCACCACCACCGCCAGAGCTTCCGAATCCACCGCCTCTGGAACCACCAAATCCACCACCGCCTCCGGAACTTCCTCCGTTGGGACATTCGCGGGAGAAATGGCCCTCCTCTCCACACTTGAAACATGCCCTACTGCCACCTCCTCCGCCGCCGCCTCCACTGCCTCCAGCATCCGGGCAATCACGGGCTATGTGACCCTCGCCACCACATTTGTAACAACCGCTGCTGCCACCGCCACCACCTCCTCGCTTTCCTCCGAATCCACCACCCCTTGGCTCATCATCTCCTCCAGCACCTCTTGATCCAAATCCGTTACTACGACCGCCAAATCCTCCACTCTCATTTGAATTCTCATCCCGGGAGCCAAATTTGCTGCCAAATCCACTGCTCTTGCTTCCGAAGCCCCCTTGCGAGTCGTCACCGCCTTTCGCCATGCCACGGCCTCTTCCAAAGTTGAAATTCCCATTTGTCGTGCCCCCAAATCCATTGGTCGTCCCCTCATCATCACTCCAGTCTGAcatTTTGGATGGTAAGATTCAGGATAACTATAACAACTCCTCAACCACAGACAACTTGCAACCAACTACAACCACGAGGAAGCTGATCTCGGGCGAAGTTTTAGTC\n"
   ]
  },
  {
   "cell_type": "code",
   "execution_count": 2,
   "metadata": {
    "scrolled": false
   },
   "outputs": [
    {
     "name": "stdout",
     "output_type": "stream",
     "text": [
      "What is the gene name? (ex. eGFP) eGFP\n"
     ]
    }
   ],
   "source": [
    "name=str(input(\"What is the gene name? (ex. eGFP) \"))\n"
   ]
  },
  {
   "cell_type": "code",
   "execution_count": 3,
   "metadata": {
    "scrolled": true
   },
   "outputs": [
    {
     "name": "stdout",
     "output_type": "stream",
     "text": [
      "Enter the antisense sequence of your cDNA (the reverse complement) without spaces or returns. ttacttgtacagctcgtccatgccgagagtgatcccggcggcggtcacgaactccagcaggaccatgtgatcgcgcttctcgttggggtctttgctcagggcggactgggtgctcaggtagtggttgtcgggcagcagcacggggccgtcgccgatgggggtgttctgctggtagtggtcggcgagctgcacgctgccgtcctcgatgttgtggcggatcttgaagttcaccttgatgccgttcttctgcttgtcggccatgatatagacgttgtggctgttgtagttgtactccagcttgtgccccaggatgttgccgtcctccttgaagtcgatgcccttcagctcgatgcggttcaccagggtgtcgccctcgaacttcacctcggcgcgggtcttgtagttgccgtcgtccttgaagaagatggtgcgctcctggacgtagccttcgggcatggcggacttgaagaagtcgtgctgcttcatgtggtcggggtagcggctgaagcactgcacgccgtaggtcagggtggtcacgagggtgggccagggcacgggcagcttgccggtggtgcagatgaacttcagggtcagcttgccgtaggtggcatcgccctcgccctcgccggacacgctgaacttgtggccgtttacgtcgccgtccagctcgaccaggatgggcaccaccccggtgaacagctcctcgcccttgctcaccat\n"
     ]
    }
   ],
   "source": [
    "fullseq=str(input(\"Enter the antisense sequence of your cDNA (the reverse complement) without spaces or returns. \"))\n",
    "cdna=len(fullseq)\n",
    "#example=str(ttacttgtacagctcgtccatgccgagagtgatcccggcggcggtcacgaactccagcaggaccatgtgatcgcgcttctcgttggggtctttgctcagggcggactgggtgctcaggtagtggttgtcgggcagcagcacggggccgtcgccgatgggggtgttctgctggtagtggtcggcgagctgcacgctgccgtcctcgatgttgtggcggatcttgaagttcaccttgatgccgttcttctgcttgtcggccatgatatagacgttgtggctgttgtagttgtactccagcttgtgccccaggatgttgccgtcctccttgaagtcgatgcccttcagctcgatgcggttcaccagggtgtcgccctcgaacttcacctcggcgcgggtcttgtagttgccgtcgtccttgaagaagatggtgcgctcctggacgtagccttcgggcatggcggacttgaagaagtcgtgctgcttcatgtggtcggggtagcggctgaagcactgcacgccgtaggtcagggtggtcacgagggtgggccagggcacgggcagcttgccggtggtgcagatgaacttcagggtcagcttgccgtaggtggcatcgccctcgccctcgccggacacgctgaacttgtggccgtttacgtcgccgtccagctcgaccaggatgggcaccaccccggtgaacagctcctcgcccttgctcaccat)"
   ]
  },
  {
   "cell_type": "code",
   "execution_count": 5,
   "metadata": {},
   "outputs": [
    {
     "name": "stdout",
     "output_type": "stream",
     "text": [
      "What is the amplifier to be used with this probe set? B1,B2,B3, or B4 b3\n"
     ]
    }
   ],
   "source": [
    "amplifier=str(input(\"What is the amplifier to be used with this probe set? B1,B2,B3, or B4 \").upper())\n",
    "def amp(ampl): \n",
    "    if ampl == \"B1\":\n",
    "        upspc= \"aa\"\n",
    "        dnspc= \"ta\"\n",
    "        up = \"GAGGAGGGCAGCAAACGG\"\n",
    "        dn = \"GAAGAGTCTTCCTTTACG\"\n",
    "    elif ampl == \"B2\":\n",
    "        upspc= \"aa\"\n",
    "        dnspc= \"aa\"\n",
    "        up = \"CCTCGTAAATCCTCATCA\"\n",
    "        dn = \"ATCATCCAGTAAACCGCC\"\n",
    "    elif ampl == \"B3\":\n",
    "        upspc= \"tt\"\n",
    "        dnspc= \"tt\"\n",
    "        up = \"GTCCCTGCCTCTATATCT\"\n",
    "        dn = \"CCACTCAACTTTAACCCG\"\n",
    "    elif ampl == \"B4\":\n",
    "        upspc= \"aa\"\n",
    "        dnspc= \"at\"\n",
    "        up = \"CCTCAACCTACCTCCAAC\"\n",
    "        dn = \"TCTCACCATATTCGCTTC\"\n",
    "    else:\n",
    "        print(\"Please try again\")\n",
    "    return([upspc,dnspc,up,dn])\n",
    "\n",
    "test=amp(amplifier)\n",
    "uspc=test[0]\n",
    "dspc=test[1]\n",
    "upinit=test[2]\n",
    "dninit=test[3]\n",
    "\n"
   ]
  },
  {
   "cell_type": "code",
   "execution_count": 6,
   "metadata": {
    "scrolled": false
   },
   "outputs": [
    {
     "name": "stdout",
     "output_type": "stream",
     "text": [
      "How many bases from 5' end of the Sense RNA before starting to hybridize? ex. 100 9\n"
     ]
    }
   ],
   "source": [
    "\n",
    "pause=int(input(\"How many bases from 5' end of the Sense RNA before starting to hybridize? ex. 100 \"))\n"
   ]
  },
  {
   "cell_type": "code",
   "execution_count": 7,
   "metadata": {},
   "outputs": [
    {
     "name": "stdout",
     "output_type": "stream",
     "text": [
      "How many pairs of probes do you want? This will be the maximum number if mRNA will accomodate. 13\n"
     ]
    }
   ],
   "source": [
    "\n",
    "count=(int(input(\"How many pairs of probes do you want? This will be the maximum number if mRNA will accomodate. \")))\n"
   ]
  },
  {
   "cell_type": "code",
   "execution_count": 10,
   "metadata": {
    "scrolled": false
   },
   "outputs": [
    {
     "name": "stdout",
     "output_type": "stream",
     "text": [
      "\n",
      "\n",
      "HCR3.0 Probe Maker Output\n",
      "\n",
      "\n",
      "Figure Layout:\n",
      "\n",
      "B3_eGFP_13\n",
      "Pair#\t1st_Half_of_Initiator_I1\tSpacer\tProbe\t\tProbe\tSpacer\t2nd_Half_of_Initiator_I1\n",
      "1\tGTCCCTGCCTCTATATCT\ttt\tcgtccagctcgaccaggatgggcac\t\tccccggtgaacagctcctcgccctt\ttt\tCCACTCAACTTTAACCCG\n",
      "2\tGTCCCTGCCTCTATATCT\ttt\ttggcatcgccctcgccctcgccgga\t\tcgctgaacttgtggccgtttacgtc\ttt\tCCACTCAACTTTAACCCG\n",
      "3\tGTCCCTGCCTCTATATCT\ttt\tgcacgggcagcttgccggtggtgca\t\ttgaacttcagggtcagcttgccgta\ttt\tCCACTCAACTTTAACCCG\n",
      "4\tGTCCCTGCCTCTATATCT\ttt\tagcggctgaagcactgcacgccgta\t\ttcagggtggtcacgagggtgggcca\ttt\tCCACTCAACTTTAACCCG\n",
      "5\tGTCCCTGCCTCTATATCT\ttt\tagccttcgggcatggcggacttgaa\t\tagtcgtgctgcttcatgtggtcggg\ttt\tCCACTCAACTTTAACCCG\n",
      "6\tGTCCCTGCCTCTATATCT\ttt\tcgcgggtcttgtagttgccgtcgtc\t\ttgaagaagatggtgcgctcctggac\ttt\tCCACTCAACTTTAACCCG\n",
      "7\tGTCCCTGCCTCTATATCT\ttt\ttgcccttcagctcgatgcggttcac\t\tgggtgtcgccctcgaacttcacctc\ttt\tCCACTCAACTTTAACCCG\n",
      "8\tGTCCCTGCCTCTATATCT\ttt\ttgtagttgtactccagcttgtgccc\t\tggatgttgccgtcctccttgaagtc\ttt\tCCACTCAACTTTAACCCG\n",
      "9\tGTCCCTGCCTCTATATCT\ttt\ttcaccttgatgccgttcttctgctt\t\tcggccatgatatagacgttgtggct\ttt\tCCACTCAACTTTAACCCG\n",
      "10\tGTCCCTGCCTCTATATCT\ttt\tagtggtcggcgagctgcacgctgcc\t\tcctcgatgttgtggcggatcttgaa\ttt\tCCACTCAACTTTAACCCG\n",
      "11\tGTCCCTGCCTCTATATCT\ttt\tagtggttgtcgggcagcagcacggg\t\tcgtcgccgatgggggtgttctgctg\ttt\tCCACTCAACTTTAACCCG\n",
      "12\tGTCCCTGCCTCTATATCT\ttt\ttgtgatcgcgcttctcgttggggtc\t\ttgctcagggcggactgggtgctcag\ttt\tCCACTCAACTTTAACCCG\n",
      "13\tGTCCCTGCCTCTATATCT\ttt\tgctcgtccatgccgagagtgatccc\t\tcggcggtcacgaactccagcaggac\ttt\tCCACTCAACTTTAACCCG\n",
      "\n",
      "\n",
      "Below are the hybridizing sequences and where they align to the cDNA:\n",
      "\n",
      "Pair#\tcDNAcoord\tProbe\tcDNAcoord\t\tcDNAcoord\tProbe\tcDNAcoord\n",
      "1\t34\tccccggtgaacagctcctcgccctt\t9\t\t61\tcgtccagctcgaccaggatgggcac\t36\n",
      "2\t88\tcgctgaacttgtggccgtttacgtc\t63\t\t115\ttggcatcgccctcgccctcgccgga\t90\n",
      "3\t142\ttgaacttcagggtcagcttgccgta\t117\t\t169\tgcacgggcagcttgccggtggtgca\t144\n",
      "4\t196\ttcagggtggtcacgagggtgggcca\t171\t\t223\tagcggctgaagcactgcacgccgta\t198\n",
      "5\t250\tagtcgtgctgcttcatgtggtcggg\t225\t\t277\tagccttcgggcatggcggacttgaa\t252\n",
      "6\t304\ttgaagaagatggtgcgctcctggac\t279\t\t331\tcgcgggtcttgtagttgccgtcgtc\t306\n",
      "7\t358\tgggtgtcgccctcgaacttcacctc\t333\t\t385\ttgcccttcagctcgatgcggttcac\t360\n",
      "8\t412\tggatgttgccgtcctccttgaagtc\t387\t\t439\ttgtagttgtactccagcttgtgccc\t414\n",
      "9\t466\tcggccatgatatagacgttgtggct\t441\t\t493\ttcaccttgatgccgttcttctgctt\t468\n",
      "10\t520\tcctcgatgttgtggcggatcttgaa\t495\t\t547\tagtggtcggcgagctgcacgctgcc\t522\n",
      "11\t574\tcgtcgccgatgggggtgttctgctg\t549\t\t601\tagtggttgtcgggcagcagcacggg\t576\n",
      "12\t628\ttgctcagggcggactgggtgctcag\t603\t\t655\ttgtgatcgcgcttctcgttggggtc\t630\n",
      "13\t682\tcggcggtcacgaactccagcaggac\t657\t\t709\tgctcgtccatgccgagagtgatccc\t684\n",
      "\n",
      "\n",
      "\n",
      "Below is in IDT oPool submission_format.\n",
      "Copy and Paste this into an XLSX file for submission to IDT.\n",
      "\n",
      "Pool_name\tsequence\n",
      "B3_eGFP_13\tGTCCCTGCCTCTATATCTttcgtccagctcgaccaggatgggcac\n",
      "B3_eGFP_13\tccccggtgaacagctcctcgcccttttCCACTCAACTTTAACCCG\n",
      "B3_eGFP_13\tGTCCCTGCCTCTATATCTtttggcatcgccctcgccctcgccgga\n",
      "B3_eGFP_13\tcgctgaacttgtggccgtttacgtcttCCACTCAACTTTAACCCG\n",
      "B3_eGFP_13\tGTCCCTGCCTCTATATCTttgcacgggcagcttgccggtggtgca\n",
      "B3_eGFP_13\ttgaacttcagggtcagcttgccgtattCCACTCAACTTTAACCCG\n",
      "B3_eGFP_13\tGTCCCTGCCTCTATATCTttagcggctgaagcactgcacgccgta\n",
      "B3_eGFP_13\ttcagggtggtcacgagggtgggccattCCACTCAACTTTAACCCG\n",
      "B3_eGFP_13\tGTCCCTGCCTCTATATCTttagccttcgggcatggcggacttgaa\n",
      "B3_eGFP_13\tagtcgtgctgcttcatgtggtcgggttCCACTCAACTTTAACCCG\n",
      "B3_eGFP_13\tGTCCCTGCCTCTATATCTttcgcgggtcttgtagttgccgtcgtc\n",
      "B3_eGFP_13\ttgaagaagatggtgcgctcctggacttCCACTCAACTTTAACCCG\n",
      "B3_eGFP_13\tGTCCCTGCCTCTATATCTtttgcccttcagctcgatgcggttcac\n",
      "B3_eGFP_13\tgggtgtcgccctcgaacttcacctcttCCACTCAACTTTAACCCG\n",
      "B3_eGFP_13\tGTCCCTGCCTCTATATCTtttgtagttgtactccagcttgtgccc\n",
      "B3_eGFP_13\tggatgttgccgtcctccttgaagtcttCCACTCAACTTTAACCCG\n",
      "B3_eGFP_13\tGTCCCTGCCTCTATATCTtttcaccttgatgccgttcttctgctt\n",
      "B3_eGFP_13\tcggccatgatatagacgttgtggctttCCACTCAACTTTAACCCG\n",
      "B3_eGFP_13\tGTCCCTGCCTCTATATCTttagtggtcggcgagctgcacgctgcc\n",
      "B3_eGFP_13\tcctcgatgttgtggcggatcttgaattCCACTCAACTTTAACCCG\n",
      "B3_eGFP_13\tGTCCCTGCCTCTATATCTttagtggttgtcgggcagcagcacggg\n",
      "B3_eGFP_13\tcgtcgccgatgggggtgttctgctgttCCACTCAACTTTAACCCG\n",
      "B3_eGFP_13\tGTCCCTGCCTCTATATCTtttgtgatcgcgcttctcgttggggtc\n",
      "B3_eGFP_13\ttgctcagggcggactgggtgctcagttCCACTCAACTTTAACCCG\n",
      "B3_eGFP_13\tGTCCCTGCCTCTATATCTttgctcgtccatgccgagagtgatccc\n",
      "B3_eGFP_13\tcggcggtcacgaactccagcaggacttCCACTCAACTTTAACCCG\n",
      "\n",
      "\n",
      "\n",
      "Anti-sense sequence used:\n",
      "\n",
      ">eGFP\n",
      "ttacttgtacagctcgtccatgccgagagtgatcccggcggcggtcacgaactccagcaggaccatgtgatcgcgcttctcgttggggtctttgctcagggcggactgggtgctcaggtagtggttgtcgggcagcagcacggggccgtcgccgatgggggtgttctgctggtagtggtcggcgagctgcacgctgccgtcctcgatgttgtggcggatcttgaagttcaccttgatgccgttcttctgcttgtcggccatgatatagacgttgtggctgttgtagttgtactccagcttgtgccccaggatgttgccgtcctccttgaagtcgatgcccttcagctcgatgcggttcaccagggtgtcgccctcgaacttcacctcggcgcgggtcttgtagttgccgtcgtccttgaagaagatggtgcgctcctggacgtagccttcgggcatggcggacttgaagaagtcgtgctgcttcatgtggtcggggtagcggctgaagcactgcacgccgtaggtcagggtggtcacgagggtgggccagggcacgggcagcttgccggtggtgcagatgaacttcagggtcagcttgccgtaggtggcatcgccctcgccctcgccggacacgctgaacttgtggccgtttacgtcgccgtccagctcgaccaggatgggcaccaccccggtgaacagctcctcgcccttgctcaccat\n"
     ]
    }
   ],
   "source": [
    "\n",
    "print(\"\")\n",
    "print(\"\")\n",
    "print(\"HCR3.0 Probe Maker Output\")\n",
    "print(\"\")\n",
    "print(\"\")\n",
    "print(\"Figure Layout:\")\n",
    "print(\"\")\n",
    "print(str(amplifier+\"_\"+str(name)+\"_\"+str(count)))\n",
    "print(\"Pair#\\t1st_Half_of_Initiator_I1\\tSpacer\\tProbe\\t\\tProbe\\tSpacer\\t2nd_Half_of_Initiator_I1\")\n",
    "\n",
    "\n",
    "position=cdna-pause     ### this controls how far from the 5'end of the mRNA probes begin \n",
    "pair=1\n",
    "pairlib={}\n",
    "idtlibu={}\n",
    "idtlibd={}\n",
    "while position>52: #52 is the cutoff for fitting an entire pair at the end of the gene. the program will cycle back over the RNA if not limited like this\n",
    "    downstream=str(fullseq[position-25:position])\n",
    "    upstream=str(fullseq[position-52:position-27])\n",
    "    pairlib[pair]=str(str(pair)+\"\\t\"+str(cdna-position+25)+\"\\t\"+str(fullseq[position-25:position])+\"\\t\"+str(cdna-position)+\"\\t\\t\"+str(cdna-position+52)+\"\\t\"+str(fullseq[position-52:position-27])+\"\\t\"+str(cdna-position+27))\n",
    "    idtlibu[pair]=str(amplifier+\"_\"+str(name)+\"_\"+str(count)+\"\\t\"+upinit+uspc+upstream)   #This is a library used for IDT output\n",
    "    idtlibd[pair]=str(amplifier+\"_\"+str(name)+\"_\"+str(count)+\"\\t\"+downstream+dspc+dninit)\n",
    "    position-=54      ### 54 is the number of bases covered by one probe set, in the HCRv3 paper each hyb pair,52bp in length, was given 56bp of space, or ~1 hybridizing pair length \n",
    "    print(str(pair)+\"\\t\"+upinit+\"\\t\"+uspc+\"\\t\"+upstream+\"\\t\\t\"+downstream+\"\\t\"+dspc+\"\\t\"+dninit)\n",
    "    if pair<count:\n",
    "        pair+=1\n",
    "    else:\n",
    "        break\n",
    "\n",
    "print(\"\")\n",
    "print(\"\")\n",
    "\n",
    "print(\"Below are the hybridizing sequences and where they align to the cDNA:\")\n",
    "print(\"\")\n",
    "print(\"Pair#\\tcDNAcoord\\tProbe\\tcDNAcoord\\t\\tcDNAcoord\\tProbe\\tcDNAcoord\")\n",
    "i=1\n",
    "while i <= pair:\n",
    "    print(pairlib[i])\n",
    "    i+=1\n",
    "\n",
    "print(\"\")\n",
    "print(\"\")\n",
    "print(\"\")\n",
    "\n",
    "\n",
    "\n",
    "\n",
    "print(\"Below is in IDT oPool submission_format.\")\n",
    "print(\"Copy and Paste this into an XLSX file for submission to IDT.\")\n",
    "print(\"\")\n",
    "print(\"Pool_name\\tsequence\")\n",
    "i=1\n",
    "while i <= pair:\n",
    "    print(str(idtlibu[i]))\n",
    "    print(str(idtlibd[i]))\n",
    "    i+=1\n",
    "\n",
    "    \n",
    "\n",
    "print(\"\")\n",
    "print(\"\")\n",
    "print(\"\")\n",
    "print(\"Anti-sense sequence used:\")\n",
    "print(\"\")\n",
    "print(\">\"+name)\n",
    "print(fullseq)"
   ]
  },
  {
   "cell_type": "code",
   "execution_count": null,
   "metadata": {},
   "outputs": [],
   "source": []
  }
 ],
 "metadata": {
  "kernelspec": {
   "display_name": "Python 3",
   "language": "python",
   "name": "python3"
  },
  "language_info": {
   "codemirror_mode": {
    "name": "ipython",
    "version": 3
   },
   "file_extension": ".py",
   "mimetype": "text/x-python",
   "name": "python",
   "nbconvert_exporter": "python",
   "pygments_lexer": "ipython3",
   "version": "3.8.3"
  }
 },
 "nbformat": 4,
 "nbformat_minor": 2
}
